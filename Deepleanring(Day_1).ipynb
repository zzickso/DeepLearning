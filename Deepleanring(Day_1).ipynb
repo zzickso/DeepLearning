{
  "nbformat": 4,
  "nbformat_minor": 0,
  "metadata": {
    "colab": {
      "name": "Deepleanring(Day-1)",
      "private_outputs": true,
      "provenance": [],
      "collapsed_sections": [],
      "mount_file_id": "1IQZiFzVXh2SwUPsmjJVL-l1k83zv155d",
      "authorship_tag": "ABX9TyMj9+gcIT3MEmw9JUu3uSAs",
      "include_colab_link": true
    },
    "kernelspec": {
      "name": "python3",
      "display_name": "Python 3"
    },
    "language_info": {
      "name": "python"
    },
    "accelerator": "GPU"
  },
  "cells": [
    {
      "cell_type": "markdown",
      "metadata": {
        "id": "view-in-github",
        "colab_type": "text"
      },
      "source": [
        "<a href=\"https://colab.research.google.com/github/zzickso/DeepLearning/blob/main/Deepleanring(Day_1).ipynb\" target=\"_parent\"><img src=\"https://colab.research.google.com/assets/colab-badge.svg\" alt=\"Open In Colab\"/></a>"
      ]
    },
    {
      "cell_type": "markdown",
      "metadata": {
        "id": "0_DZ0K1bAPAo"
      },
      "source": [
        "# 딥러닝"
      ]
    },
    {
      "cell_type": "markdown",
      "metadata": {
        "id": "r-VMDE8nAS3e"
      },
      "source": [
        ""
      ]
    },
    {
      "cell_type": "code",
      "metadata": {
        "id": "MsOI-XuepJpL"
      },
      "source": [
        "from tensorflow.keras.models import Sequential\n",
        "from tensorflow.keras.layers import Dense\n",
        "\n",
        "import numpy as np\n",
        "import tensorflow as tf\n",
        "\n",
        "np.random.seed(3)\n",
        "tf.random.set_seed(3)\n",
        "\n",
        "Data_set = np.loadtxt('./MyDrive/MyDrive/test/ThoraricSurgery.csv', delimiter=\",\")\n",
        "Data_set.shape\n",
        "\n",
        "X = Data_set[:, 0:17]\n",
        "Y = Data_set[:, 17]\n",
        "\n",
        "model = Sequential()\n",
        "model.add(Dense(30, input_dim=17, activation='relu'))\n",
        "model.add(Dense(1, activation='sigmoid'))\n",
        "\n",
        "model.compile(loss=\"binary_crossentropy\", optimizer=\"adam\" , metrics=['accuracy'])\n",
        "model.fit(X, Y , epochs=100, batch_size=10)\n"
      ],
      "execution_count": null,
      "outputs": []
    },
    {
      "cell_type": "markdown",
      "metadata": {
        "id": "8Er1wb9sAoiG"
      },
      "source": [
        "# matplotlib"
      ]
    },
    {
      "cell_type": "code",
      "metadata": {
        "id": "RN9jzxKc44SK"
      },
      "source": [
        "from tensorflow.keras.models import Sequential\n",
        "from tensorflow.keras.layers import Dense\n",
        "\n",
        "import matplotlib.pyplot as plt\n",
        "import numpy as np\n",
        "import tensorflow as tf\n",
        "\n",
        "\n",
        "X = data=np.linspace(1,2,200)\n",
        "#X.shape\n",
        "\n",
        "Y = X *4 + np.random.randn(200) * 0.3\n",
        "#Y\n",
        "\n",
        "model = Sequential()\n",
        "model.add(Dense(1, input_dim=1, activation='linear'))\n",
        "model.compile(optimizer='sgd',loss='mse',metrics=['mse'])\n",
        "model.fit(X,Y,batch_size=1,epochs=30)\n",
        "\n",
        "predict = model.predict(data)\n",
        "\n",
        "plt.plot(data,predict,'b',data,Y,'k.')\n",
        "plt.show()\n"
      ],
      "execution_count": null,
      "outputs": []
    },
    {
      "cell_type": "code",
      "metadata": {
        "id": "lQuFzDcV9knp"
      },
      "source": [
        ""
      ],
      "execution_count": null,
      "outputs": []
    }
  ]
}