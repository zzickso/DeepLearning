{
  "nbformat": 4,
  "nbformat_minor": 0,
  "metadata": {
    "colab": {
      "name": "선형 회귀(모두의 딥러닝)",
      "provenance": [],
      "authorship_tag": "ABX9TyMlbb7Af49Eog9yaabXEkAK",
      "include_colab_link": true
    },
    "kernelspec": {
      "name": "python3",
      "display_name": "Python 3"
    },
    "language_info": {
      "name": "python"
    }
  },
  "cells": [
    {
      "cell_type": "markdown",
      "metadata": {
        "id": "view-in-github",
        "colab_type": "text"
      },
      "source": [
        "<a href=\"https://colab.research.google.com/github/zzickso/DeepLearning/blob/main/%EC%84%A0%ED%98%95_%ED%9A%8C%EA%B7%80(%EB%AA%A8%EB%91%90%EC%9D%98_%EB%94%A5%EB%9F%AC%EB%8B%9D).ipynb\" target=\"_parent\"><img src=\"https://colab.research.google.com/assets/colab-badge.svg\" alt=\"Open In Colab\"/></a>"
      ]
    },
    {
      "cell_type": "code",
      "metadata": {
        "colab": {
          "base_uri": "https://localhost:8080/"
        },
        "id": "puS6TeOLPZSI",
        "outputId": "bdb43608-aa7a-4877-abfc-9081f40e8ad6"
      },
      "source": [
        "import numpy as np\n",
        "\n",
        "# x 값과 y 값\n",
        "x=[2, 4, 6, 8]\n",
        "y=[81, 93, 91, 97]\n",
        "\n",
        "# x와 y의 평균값\n",
        "mx = np.mean(x)\n",
        "my = np.mean(y)\n",
        "print(\"x의 평균값:\", mx)\n",
        "print(\"y의 평균값:\", my)\n",
        "\n",
        "# 기울기 공식의 분모\n",
        "divisor = sum([(mx - i)**2 for i in x])\n",
        "\n",
        "# 기울기 공식의 분자\n",
        "def top(x, mx, y, my):\n",
        "    d = 0\n",
        "    for i in range(len(x)):\n",
        "        d += (x[i] - mx) * (y[i] - my)\n",
        "    return d\n",
        "dividend = top(x, mx, y, my)\n",
        "\n",
        "print(\"분모:\", divisor)\n",
        "print(\"분자:\", dividend)\n",
        "\n",
        "# 기울기와 y 절편 구하기\n",
        "a = dividend / divisor\n",
        "b = my - (mx*a)\n",
        "\n",
        "# 출력으로 확인\n",
        "print(\"기울기 a =\", a)\n",
        "print(\"y 절편 b =\", b)"
      ],
      "execution_count": 15,
      "outputs": [
        {
          "output_type": "stream",
          "text": [
            "x의 평균값: 5.0\n",
            "y의 평균값: 90.5\n",
            "분모: 20.0\n",
            "분자: 46.0\n",
            "기울기 a = 2.3\n",
            "y 절편 b = 79.0\n"
          ],
          "name": "stdout"
        }
      ]
    },
    {
      "cell_type": "code",
      "metadata": {
        "colab": {
          "base_uri": "https://localhost:8080/"
        },
        "id": "SS6oNEnbVB17",
        "outputId": "a8983b4b-0c0b-4bb8-91ab-030194b3d8f9"
      },
      "source": [
        "import numpy as np\n",
        "\n",
        "# 기울기 a와 y 절편 b\n",
        "fake_a_b = [3, 76]\n",
        "\n",
        "# x, y의 데이터 값\n",
        "data = [[2, 81], [4, 93], [6, 91], [8, 97]]\n",
        "x = [i[0] for i in data]\n",
        "y = [i[1] for i in data]\n",
        "\n",
        "# y = ax + b에 a와 b 값을 대입하여 결과를 출력하는 함수\n",
        "def predict(x):\n",
        "    return fake_a_b[0]*x + fake_a_b[1]\n",
        "\n",
        "# MSE 함수\n",
        "def mse(y_hat, y):\n",
        "    return ((y_hat-y) ** 2).mean()\n",
        "\n",
        "# MSE 함수를 각 y 값에 대입하여 최종 값을 구하는 함수\n",
        "def mse_val(predict_result,y):\n",
        "    return mse(np.array(predict_result), np.array(y))\n",
        "\n",
        "# 예측 값이 들어갈 빈 리스트\n",
        "predict_result = []\n",
        "\n",
        "# 모든 x 값을 한 번씩 대입하여\n",
        "for i in range(len(x)):\n",
        "    # predict_result 리스트를 완성\n",
        "    predict_result.append(predict(x[i]))\n",
        "    print(\"공부한 시간 = %.f, 실제 점수 = %.f, 예측 점수 = %.f\" % (x[i], y[i], predict(x[i])))\n",
        "\n",
        "# 최종 MSE 출력\n",
        "print(\"mse 최종값: \" + str(mse_val(predict_result,y)))"
      ],
      "execution_count": 30,
      "outputs": [
        {
          "output_type": "stream",
          "text": [
            "공부한 시간 = 2, 실제 점수 = 81, 예측 점수 = 82\n",
            "공부한 시간 = 4, 실제 점수 = 93, 예측 점수 = 88\n",
            "공부한 시간 = 6, 실제 점수 = 91, 예측 점수 = 94\n",
            "공부한 시간 = 8, 실제 점수 = 97, 예측 점수 = 100\n",
            "mse 최종값: 11.0\n"
          ],
          "name": "stdout"
        }
      ]
    },
    {
      "cell_type": "code",
      "metadata": {
        "id": "boQSu891XDh5"
      },
      "source": [
        ""
      ],
      "execution_count": null,
      "outputs": []
    }
  ]
}