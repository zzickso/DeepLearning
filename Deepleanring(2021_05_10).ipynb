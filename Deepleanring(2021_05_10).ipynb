{
  "nbformat": 4,
  "nbformat_minor": 0,
  "metadata": {
    "colab": {
      "name": "Deepleanring(2021.05.10)",
      "private_outputs": true,
      "provenance": [],
      "collapsed_sections": [],
      "mount_file_id": "1IQZiFzVXh2SwUPsmjJVL-l1k83zv155d",
      "authorship_tag": "ABX9TyMevJ1Dsxjjc11F49C0gkAd",
      "include_colab_link": true
    },
    "kernelspec": {
      "name": "python3",
      "display_name": "Python 3"
    },
    "language_info": {
      "name": "python"
    },
    "accelerator": "GPU"
  },
  "cells": [
    {
      "cell_type": "markdown",
      "metadata": {
        "id": "view-in-github",
        "colab_type": "text"
      },
      "source": [
        "<a href=\"https://colab.research.google.com/github/zzickso/DeepLearning/blob/main/Deepleanring(2021_05_10).ipynb\" target=\"_parent\"><img src=\"https://colab.research.google.com/assets/colab-badge.svg\" alt=\"Open In Colab\"/></a>"
      ]
    },
    {
      "cell_type": "markdown",
      "metadata": {
        "id": "0_DZ0K1bAPAo"
      },
      "source": [
        "# 딥러닝"
      ]
    },
    {
      "cell_type": "markdown",
      "metadata": {
        "id": "r-VMDE8nAS3e"
      },
      "source": [
        ""
      ]
    },
    {
      "cell_type": "code",
      "metadata": {
        "id": "MsOI-XuepJpL"
      },
      "source": [
        "from tensorflow.keras.models import Sequential\n",
        "from tensorflow.keras.layers import Dense\n",
        "\n",
        "import numpy as np\n",
        "import tensorflow as tf\n",
        "\n",
        "np.random.seed(3)\n",
        "tf.random.set_seed(3)\n",
        "\n",
        "Data_set = np.loadtxt('./MyDrive/MyDrive/test/ThoraricSurgery.csv', delimiter=\",\")\n",
        "Data_set.shape\n",
        "\n",
        "X = Data_set[:, 0:17]\n",
        "Y = Data_set[:, 17]\n",
        "\n",
        "model = Sequential()\n",
        "model.add(Dense(30, input_dim=17, activation='relu'))\n",
        "model.add(Dense(1, activation='sigmoid'))\n",
        "\n",
        "model.compile(loss=\"binary_crossentropy\", optimizer=\"adam\" , metrics=['accuracy'])\n",
        "model.fit(X, Y , epochs=100, batch_size=10)\n"
      ],
      "execution_count": null,
      "outputs": []
    },
    {
      "cell_type": "markdown",
      "metadata": {
        "id": "8Er1wb9sAoiG"
      },
      "source": [
        "# 가상데이터를 이용한 케라스 확인"
      ]
    },
    {
      "cell_type": "code",
      "metadata": {
        "id": "RN9jzxKc44SK"
      },
      "source": [
        "from tensorflow.keras.models import Sequential\n",
        "from tensorflow.keras.layers import Dense\n",
        "\n",
        "import matplotlib.pyplot as plt\n",
        "import numpy as np\n",
        "import tensorflow as tf\n",
        "\n",
        "\n",
        "X = data=np.linspace(1,2,200)\n",
        "#X.shape\n",
        "\n",
        "Y = X *4 + np.random.randn(200) * 0.3\n",
        "#Y\n",
        "\n",
        "model = Sequential()\n",
        "model.add(Dense(1, input_dim=1, activation='linear'))\n",
        "model.compile(optimizer='sgd',loss='mse',metrics=['mse'])\n",
        "model.fit(X,Y,batch_size=1,epochs=30)\n",
        "\n",
        "predict = model.predict(data)\n",
        "\n",
        "plt.plot(data,predict,'b',data,Y,'k.')\n",
        "plt.show()\n"
      ],
      "execution_count": null,
      "outputs": []
    },
    {
      "cell_type": "markdown",
      "metadata": {
        "id": "WHn3H9FNqY-A"
      },
      "source": [
        "# 선형회귀"
      ]
    },
    {
      "cell_type": "code",
      "metadata": {
        "id": "mjMOfUCorDG_"
      },
      "source": [
        "import numpy as np\n",
        "\n",
        "# x 값과 y 값\n",
        "x=[2, 4, 6, 8]\n",
        "y=[81, 93, 91, 97]\n",
        "\n",
        "# x와 y의 평균값\n",
        "mx = np.mean(x)\n",
        "my = np.mean(y)\n",
        "print(\"x의 평균값:\", mx)\n",
        "print(\"y의 평균값:\", my)\n",
        "\n",
        "# 기울기 공식의 분모\n",
        "divisor = sum([(mx - i)**2 for i in x])\n",
        "# 기울기 공식의 분자\n",
        "def top(x, mx, y, my):\n",
        "    d = 0\n",
        "    for i in range(len(x)):\n",
        "        d += (x[i] - mx) * (y[i] - my)\n",
        "    return d\n",
        "dividend = top(x, mx, y, my)\n",
        "\n",
        "print(\"분모:\", divisor)\n",
        "print(\"분자:\", dividend)\n",
        "\n",
        "# 기울기와 y 절편 구하기\n",
        "a = dividend / divisor\n",
        "b = my - (mx*a)\n",
        "\n",
        "# 출력으로 확인\n",
        "print(\"기울기 a =\", a)\n",
        "print(\"y 절편 b =\", b)\n",
        "\n",
        "predict = []\n",
        "for i in x:\n",
        "    predict.append(a + (b * i))\n",
        "\n",
        "import matplotlib.pyplot as plt\n",
        "\n",
        "plt.scatter(x, y, label = 'real')\n",
        "plt.plot(x, predict, c = 'r', label = 'predict')\n",
        "plt.legend()"
      ],
      "execution_count": null,
      "outputs": []
    },
    {
      "cell_type": "code",
      "metadata": {
        "id": "VG94iyG6y-Hw"
      },
      "source": [
        "import numpy as np\n",
        "\n",
        "# 기울기 a와 y 절편 b\n",
        "fake_a_b = [3, 76]\n",
        "\n",
        "# x, y의 데이터 값\n",
        "data = [[2, 81], [4, 93], [6, 91], [8, 97]]\n",
        "x = [i[0] for i in data]\n",
        "y = [i[1] for i in data]\n",
        "\n",
        "# y = ax + b에 a와 b 값을 대입하여 결과를 출력하는 함수\n",
        "def predict(x):\n",
        "    return fake_a_b[0]*x + fake_a_b[1]\n",
        "\n",
        "# MSE 함수\n",
        "def mse(y, y_hat):\n",
        "    return ((y-y_hat) ** 2).mean()\n",
        "\n",
        "# MSE 함수를 각 y 값에 대입하여 최종 값을 구하는 함수\n",
        "def mse_val(predict_result,y):\n",
        "    return mse(np.array(predict_result), np.array(y))\n",
        "\n",
        "# 예측 값이 들어갈 빈 리스트\n",
        "predict_result = []\n",
        "\n",
        "# 모든 x 값을 한 번씩 대입하여\n",
        "for i in range(len(x)):\n",
        "    # predict_result 리스트를 완성\n",
        "    predict_result.append(predict(x[i]))\n",
        "    print(\"공부한 시간 = %.f, 실제 점수 = %.f, 예측 점수 = %.f\" % (x[i], y[i], predict(x[i])))\n",
        "\n",
        "# 최종 MSE 출력\n",
        "print(\"mse 최종값: \" + str(mse_val(predict_result,y)))"
      ],
      "execution_count": null,
      "outputs": []
    },
    {
      "cell_type": "code",
      "metadata": {
        "id": "oID1vrmp8Ige"
      },
      "source": [
        ""
      ],
      "execution_count": null,
      "outputs": []
    }
  ]
}